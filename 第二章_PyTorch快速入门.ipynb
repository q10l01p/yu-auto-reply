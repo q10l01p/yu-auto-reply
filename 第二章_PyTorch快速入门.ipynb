{
  "nbformat": 4,
  "nbformat_minor": 0,
  "metadata": {
    "colab": {
      "provenance": [],
      "authorship_tag": "ABX9TyNO4ehytXS7zbpOqstNNBNt",
      "include_colab_link": true
    },
    "kernelspec": {
      "name": "python3",
      "display_name": "Python 3"
    },
    "language_info": {
      "name": "python"
    }
  },
  "cells": [
    {
      "cell_type": "markdown",
      "metadata": {
        "id": "view-in-github",
        "colab_type": "text"
      },
      "source": [
        "<a href=\"https://colab.research.google.com/github/q10l01p/yu-auto-reply/blob/master/%E7%AC%AC%E4%BA%8C%E7%AB%A0_PyTorch%E5%BF%AB%E9%80%9F%E5%85%A5%E9%97%A8.ipynb\" target=\"_parent\"><img src=\"https://colab.research.google.com/assets/colab-badge.svg\" alt=\"Open In Colab\"/></a>"
      ]
    },
    {
      "cell_type": "markdown",
      "source": [
        "# 2.1 PyTorch安装"
      ],
      "metadata": {
        "id": "_250-Nm4tGnU"
      }
    },
    {
      "cell_type": "markdown",
      "source": [
        "# 2.2 张量"
      ],
      "metadata": {
        "id": "bFK9pF6mtL0f"
      }
    },
    {
      "cell_type": "code",
      "source": [],
      "metadata": {
        "id": "b4XPMnS5tQk5"
      },
      "execution_count": null,
      "outputs": []
    }
  ]
}